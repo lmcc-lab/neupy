{
 "cells": [
  {
   "cell_type": "markdown",
   "metadata": {},
   "source": [
    "# Nuclide examples\n",
    "In this interactive notebook, we walk through how to use the `nuclide` class in the neupy library. The general idea for the nuclide object is to be an object that contains all of the information for a given nuclide, generally characterised by the atomic number $A$, and proton number $Z$. The isomer level can also be given for more specificity.\n",
    "\n",
    "The nuclide object can be imported from the nuclide file"
   ]
  },
  {
   "cell_type": "code",
   "execution_count": 1,
   "metadata": {},
   "outputs": [],
   "source": [
    "# Run this only if you're working in the neupy directory\n",
    "import sys\n",
    "import os\n",
    "cwd = os.getcwd().replace('\\examples', '')\n",
    "sys.path.append(cwd)"
   ]
  },
  {
   "cell_type": "code",
   "execution_count": 2,
   "metadata": {},
   "outputs": [],
   "source": [
    "from nuclide import Nuclide"
   ]
  },
  {
   "cell_type": "markdown",
   "metadata": {},
   "source": [
    "The nuclide object is initialised with the atomic number `A`, proton number `Z`, and isomer level `level`. Alternatively, it can be initialised using the `AZI` number, which is simply a string of the form `AAAZZZi`. \n",
    "A and Z must be provided, and optionally level or NIA. If neither of these are provided then ValueError will be raised. \n",
    "\n",
    "### Parameters\n",
    "\n",
    "- A: int = None, mass number\n",
    "- Z: int = None, proton number\n",
    "- level: int = 0, level=0 (gs);level=1,2 (isomers); level=3,4 (levels); level=5 (resonance); level=8,9 (IAS). level=3,4,5,6 can also indicate isomers (when more than two isomers are presented in a nuclide)\n",
    "\n",
    "- AZI: int = None, the combined AAAZZZi value for searching\n",
    "- nubase: pd.DataFrame = None, nubase database\n",
    "- search_in_fy: bool = False, Search through fission yield databases to match input nuclide to database. Generally we run this nuclide class after getting a nuclide from the databases, so we should already have this information without having to research, therefore this is False by default. \n",
    "\n",
    "In this example, I will be using the Iodine 53 nuclide."
   ]
  },
  {
   "cell_type": "code",
   "execution_count": 3,
   "metadata": {},
   "outputs": [
    {
     "name": "stdout",
     "output_type": "stream",
     "text": [
      "AZI\n",
      "1350530    135I\n",
      "Name: A El, dtype: object\n"
     ]
    }
   ],
   "source": [
    "nuclide = Nuclide(Z=53, A=135, database_path=cwd+'\\\\databases\\\\')\n",
    "# Print out the element symbol from the nubase dataframe\n",
    "print(nuclide.nuclide_nubase_info['A El'])"
   ]
  },
  {
   "cell_type": "markdown",
   "metadata": {},
   "source": [
    "Other attributes that can be obtained after intialising the `Nuclide` object include"
   ]
  },
  {
   "cell_type": "code",
   "execution_count": 4,
   "metadata": {},
   "outputs": [
    {
     "name": "stdout",
     "output_type": "stream",
     "text": [
      "135\n",
      "53\n",
      "0\n",
      "1350530\n",
      "All other attributes and methods\n",
      "['AZI',\n",
      " 'Z',\n",
      " 'A',\n",
      " 'level',\n",
      " 'nubase',\n",
      " 'config',\n",
      " 'nubase_config',\n",
      " 'fy',\n",
      " 'nuclide_fission_info',\n",
      " 'nuclide_nubase_info',\n",
      " 'found',\n",
      " 'decay_chain',\n",
      " 'allow_energetically_possible_decay_paths',\n",
      " 'br_intensity_extra_params',\n",
      " 'total_neutrino_profile',\n",
      " 'integral_total_neutrino_profile',\n",
      " 'derivative_total_neutrino_profile',\n",
      " '_focused_linear_chain',\n",
      " '__module__',\n",
      " '__init__',\n",
      " '_azi_gen',\n",
      " 'all_nubase_data_on_nuclide',\n",
      " 'convert_intensity_to_decimal',\n",
      " 'make_decay_chain',\n",
      " 'break_decay_chain_branches',\n",
      " '_mermaid_flowchart_template',\n",
      " '_make_folder',\n",
      " 'display_decay_chain',\n",
      " 'convert_half_life',\n",
      " '_check_half_life_flags',\n",
      " 'get_half_life_and_convert',\n",
      " 'convert_half_lives_to_decay_constant',\n",
      " 'initialise_bateman_objects',\n",
      " 'concentration_profile',\n",
      " 'calculate_profiles',\n",
      " '_map_element_wise_multiplication',\n",
      " 'nuclide_concentration_profile',\n",
      " 'xe_poisoning',\n",
      " '__dict__',\n",
      " '__weakref__',\n",
      " '__doc__',\n",
      " '__new__',\n",
      " '__repr__',\n",
      " '__hash__',\n",
      " '__str__',\n",
      " '__getattribute__',\n",
      " '__setattr__',\n",
      " '__delattr__',\n",
      " '__lt__',\n",
      " '__le__',\n",
      " '__eq__',\n",
      " '__ne__',\n",
      " '__gt__',\n",
      " '__ge__',\n",
      " '__reduce_ex__',\n",
      " '__reduce__',\n",
      " '__subclasshook__',\n",
      " '__init_subclass__',\n",
      " '__format__',\n",
      " '__sizeof__',\n",
      " '__dir__',\n",
      " '__class__']\n"
     ]
    }
   ],
   "source": [
    "from pprint import pprint\n",
    "print(nuclide.A)\n",
    "print(nuclide.Z)\n",
    "print(nuclide.level)\n",
    "print(nuclide.AZI)\n",
    "print(\"All other attributes and methods\")\n",
    "pprint(nuclide.__dir__())"
   ]
  },
  {
   "cell_type": "markdown",
   "metadata": {},
   "source": [
    "Most of the attributes when initialised will be 0, False, or None. These are just initialised for later use. You can also access all of your databases through the nuclide object"
   ]
  },
  {
   "cell_type": "code",
   "execution_count": 5,
   "metadata": {},
   "outputs": [
    {
     "name": "stdout",
     "output_type": "stream",
     "text": [
      "{'PU239': {0.0253:          Level             Y            DY    A   Z\n",
      "AZI                                                \n",
      "0660240      0  0.000000e+00  0.000000e+00   66  24\n",
      "0670240      0  0.000000e+00  0.000000e+00   67  24\n",
      "0680240      0  0.000000e+00  0.000000e+00   68  24\n",
      "0690240      0  1.901400e-18  1.216900e-18   69  24\n",
      "0700240      0  0.000000e+00  0.000000e+00   70  24\n",
      "...        ...           ...           ...  ...  ..\n",
      "1710711      1  0.000000e+00  0.000000e+00  171  71\n",
      "1720710      0  0.000000e+00  0.000000e+00  172  71\n",
      "1720711      1  0.000000e+00  0.000000e+00  172  71\n",
      "1710720      0  0.000000e+00  0.000000e+00  171  72\n",
      "1720720      0  0.000000e+00  0.000000e+00  172  72\n",
      "\n",
      "[1226 rows x 5 columns], 500000.0:          Level             Y            DY    A   Z\n",
      "AZI                                                \n",
      "0660230      0  3.597100e-18  2.302100e-18   66  23\n",
      "0660240      0  8.919000e-14  5.708200e-14   66  24\n",
      "0670240      0  0.000000e+00  0.000000e+00   67  24\n",
      "0680240      0  0.000000e+00  0.000000e+00   68  24\n",
      "0690240      0  4.849900e-17  3.103900e-17   69  24\n",
      "...        ...           ...           ...  ...  ..\n",
      "1710711      1  0.000000e+00  0.000000e+00  171  71\n",
      "1720710      0  0.000000e+00  0.000000e+00  172  71\n",
      "1720711      1  0.000000e+00  0.000000e+00  172  71\n",
      "1710720      0  0.000000e+00  0.000000e+00  171  72\n",
      "1720720      0  0.000000e+00  0.000000e+00  172  72\n",
      "\n",
      "[1244 rows x 5 columns], 2000000.0:          Level             Y            DY    A   Z\n",
      "AZI                                                \n",
      "0660230      0  3.596800e-18  2.302000e-18   66  23\n",
      "0660240      0  8.918500e-14  5.707800e-14   66  24\n",
      "0670240      0  0.000000e+00  0.000000e+00   67  24\n",
      "0680240      0  0.000000e+00  0.000000e+00   68  24\n",
      "0690240      0  4.849600e-17  3.103700e-17   69  24\n",
      "...        ...           ...           ...  ...  ..\n",
      "1710711      1  0.000000e+00  0.000000e+00  171  71\n",
      "1720710      0  0.000000e+00  0.000000e+00  172  71\n",
      "1720711      1  0.000000e+00  0.000000e+00  172  71\n",
      "1710720      0  0.000000e+00  0.000000e+00  171  72\n",
      "1720720      0  0.000000e+00  0.000000e+00  172  72\n",
      "\n",
      "[1244 rows x 5 columns], 14000000.0:          Level             Y            DY    A   Z\n",
      "AZI                                                \n",
      "0660230      0  5.818400e-14  3.723800e-14   66  23\n",
      "0670230      0  9.267100e-15  5.930900e-15   67  23\n",
      "0660240      0  8.724700e-11  5.583800e-11   66  24\n",
      "0670240      0  1.282100e-11  8.205400e-12   67  24\n",
      "0680240      0  1.934500e-12  1.238100e-12   68  24\n",
      "...        ...           ...           ...  ...  ..\n",
      "1710711      1  1.874400e-12  1.199600e-12  171  71\n",
      "1720710      0  1.042400e-11  6.671700e-12  172  71\n",
      "1720711      1  1.042400e-11  6.671700e-12  172  71\n",
      "1710720      0  0.000000e+00  0.000000e+00  171  72\n",
      "1720720      0  1.894500e-14  1.212400e-14  172  72\n",
      "\n",
      "[1226 rows x 5 columns]}, 'U233': {0.0253:          Level             Y            DY    A   Z\n",
      "AZI                                                \n",
      "0660230      0  5.171800e-19  3.309900e-19   66  23\n",
      "0660240      0  2.449900e-14  1.567900e-14   66  24\n",
      "0670240      0  0.000000e+00  0.000000e+00   67  24\n",
      "0680240      0  0.000000e+00  0.000000e+00   68  24\n",
      "0690240      0  1.018100e-17  6.515600e-18   69  24\n",
      "...        ...           ...           ...  ...  ..\n",
      "1710711      1  0.000000e+00  0.000000e+00  171  71\n",
      "1720710      0  0.000000e+00  0.000000e+00  172  71\n",
      "1720711      1  0.000000e+00  0.000000e+00  172  71\n",
      "1710720      0  0.000000e+00  0.000000e+00  171  72\n",
      "1720720      0  0.000000e+00  0.000000e+00  172  72\n",
      "\n",
      "[1232 rows x 5 columns], 500000.0:          Level             Y            DY    A   Z\n",
      "AZI                                                \n",
      "0660230      0  4.004800e-19  2.563000e-19   66  23\n",
      "0660240      0  2.050000e-14  1.312000e-14   66  24\n",
      "0670240      0  0.000000e+00  0.000000e+00   67  24\n",
      "0680240      0  0.000000e+00  0.000000e+00   68  24\n",
      "0690240      0  6.510700e-18  4.166800e-18   69  24\n",
      "...        ...           ...           ...  ...  ..\n",
      "1710711      1  0.000000e+00  0.000000e+00  171  71\n",
      "1720710      0  0.000000e+00  0.000000e+00  172  71\n",
      "1720711      1  0.000000e+00  0.000000e+00  172  71\n",
      "1710720      0  0.000000e+00  0.000000e+00  171  72\n",
      "1720720      0  0.000000e+00  0.000000e+00  172  72\n",
      "\n",
      "[1220 rows x 5 columns], 14000000.0:          Level             Y            DY    A   Z\n",
      "AZI                                                \n",
      "0660230      0  2.391900e-13  1.530800e-13   66  23\n",
      "0670230      0  6.235900e-14  3.991000e-14   67  23\n",
      "0660240      0  9.377600e-10  6.001700e-10   66  24\n",
      "0670240      0  1.809400e-10  1.158000e-10   67  24\n",
      "0680240      0  1.310000e-11  8.384000e-12   68  24\n",
      "...        ...           ...           ...  ...  ..\n",
      "1710711      1  4.030000e-13  2.579200e-13  171  71\n",
      "1720710      0  5.290000e-12  3.385600e-12  172  71\n",
      "1720711      1  5.290000e-12  3.385600e-12  172  71\n",
      "1710720      0  0.000000e+00  0.000000e+00  171  72\n",
      "1720720      0  0.000000e+00  0.000000e+00  172  72\n",
      "\n",
      "[1214 rows x 5 columns]}, 'U235': {0.0253:          Level             Y            DY    A   Z\n",
      "AZI                                                \n",
      "0660230      0  2.050300e-19  1.312200e-19   66  23\n",
      "0660240      0  2.409800e-14  1.542300e-14   66  24\n",
      "0670240      0  0.000000e+00  0.000000e+00   67  24\n",
      "0680240      0  0.000000e+00  0.000000e+00   68  24\n",
      "0690240      0  2.108200e-18  1.349200e-18   69  24\n",
      "...        ...           ...           ...  ...  ..\n",
      "1710711      1  0.000000e+00  0.000000e+00  171  71\n",
      "1720710      0  0.000000e+00  0.000000e+00  172  71\n",
      "1720711      1  0.000000e+00  0.000000e+00  172  71\n",
      "1710720      0  0.000000e+00  0.000000e+00  171  72\n",
      "1720720      0  0.000000e+00  0.000000e+00  172  72\n",
      "\n",
      "[1247 rows x 5 columns], 500000.0:          Level             Y            DY    A   Z\n",
      "AZI                                                \n",
      "0660230      0  4.484600e-18  2.870100e-18   66  23\n",
      "0670230      0  7.337500e-19  4.696000e-19   67  23\n",
      "0660240      0  4.029900e-13  2.579200e-13   66  24\n",
      "0670240      0  4.879900e-14  3.123100e-14   67  24\n",
      "0680240      0  0.000000e+00  0.000000e+00   68  24\n",
      "...        ...           ...           ...  ...  ..\n",
      "1710711      1  0.000000e+00  0.000000e+00  171  71\n",
      "1720710      0  0.000000e+00  0.000000e+00  172  71\n",
      "1720711      1  0.000000e+00  0.000000e+00  172  71\n",
      "1710720      0  0.000000e+00  0.000000e+00  171  72\n",
      "1720720      0  0.000000e+00  0.000000e+00  172  72\n",
      "\n",
      "[1260 rows x 5 columns], 14000000.0:          Level             Y            DY    A   Z\n",
      "AZI                                                \n",
      "0660230      0  3.325300e-13  2.128200e-13   66  23\n",
      "0670230      0  6.347900e-14  4.062700e-14   67  23\n",
      "0680230      0  6.053600e-15  3.874300e-15   68  23\n",
      "0660240      0  7.905800e-10  5.059700e-10   66  24\n",
      "0670240      0  1.509200e-10  9.658800e-11   67  24\n",
      "...        ...           ...           ...  ...  ..\n",
      "1710711      1  0.000000e+00  0.000000e+00  171  71\n",
      "1720710      0  1.539800e-13  9.854900e-14  172  71\n",
      "1720711      1  1.539800e-13  9.854900e-14  172  71\n",
      "1710720      0  0.000000e+00  0.000000e+00  171  72\n",
      "1720720      0  0.000000e+00  0.000000e+00  172  72\n",
      "\n",
      "[1237 rows x 5 columns]}}\n",
      "         AAA  ZZZi   A El s          Mass #     dMass # Exc # dE # Orig   \n",
      "AZI                                                                       \n",
      "0010000  001  0000     1n         8071.3181      0.0004                  \\\n",
      "0010010  001  0010     1H       7288.971064    0.000013                   \n",
      "0020010  002  0010     2H      13135.722895    0.000015                   \n",
      "0030010  003  0010     3H        14949.8109     0.00008                   \n",
      "0030020  003  0020    3He       14931.21888     0.00006                   \n",
      "...      ...   ...    ... ..            ...         ...   ...  ...  ...   \n",
      "2931170  293  1170  293Ts     (194430.0, #)  (780.0, #)                   \n",
      "2931180  293  1180  293Og     (198800.0, #)  (710.0, #)              RN   \n",
      "2941170  294  1170  294Ts     (196400.0, #)  (590.0, #)                   \n",
      "2941180  294  1180  294Og     (199320.0, #)  (550.0, #)                   \n",
      "2951180  295  1180  295Og     (201370.0, #)  (660.0, #)                   \n",
      "\n",
      "        Isom.Unc  ... unit T    dT Jpi */#/T= Ensdf year Discovery   \n",
      "AZI               ...                                                \n",
      "0010000           ...      s   0.6      1/2+*         06      1932  \\\n",
      "0010010           ...                   1/2+*         06      1920   \n",
      "0020010           ...                     1+*         03      1932   \n",
      "0030010           ...      y  0.02      1/2+*         00      1934   \n",
      "0030020           ...                   1/2+*         98      1934   \n",
      "...          ...  ...    ...   ...        ...        ...       ...   \n",
      "2931170           ...     ms     6                    10      2010   \n",
      "2931180           ...     ms                          00      2010   \n",
      "2941170           ...     ms    30                    19      2010   \n",
      "2941180           ...     ms   0.3         0+         05      2004   \n",
      "2951180           ...     ms   540                            2006   \n",
      "\n",
      "                    BR      AZI    A    Z  i  \n",
      "AZI                                           \n",
      "0010000         B-=100  0010000    1    0  0  \n",
      "0010010  IS=99.9855 78  0010010    1    1  0  \n",
      "0020010   IS=0.0145 78  0020010    2    1  0  \n",
      "0030010         B-=100  0030010    3    1  0  \n",
      "0030020    IS=0.0002 2  0030020    3    2  0  \n",
      "...                ...      ...  ...  ... ..  \n",
      "2931170          A=100  2931170  293  117  0  \n",
      "2931180            A ?  2931180  293  118  0  \n",
      "2941170          A=100  2941170  294  117  0  \n",
      "2941180    A~100; SF ?  2941180  294  118  0  \n",
      "2951180          A~100  2951180  295  118  0  \n",
      "\n",
      "[5843 rows x 22 columns]\n"
     ]
    }
   ],
   "source": [
    "# Fission yield database\n",
    "print(nuclide.fy)\n",
    "# Nubase2020 database\n",
    "print(nuclide.nubase)"
   ]
  },
  {
   "cell_type": "markdown",
   "metadata": {},
   "source": [
    "After initialisation, you can call methods to get more information about the nuclide, such as finding it's decay chain"
   ]
  },
  {
   "cell_type": "code",
   "execution_count": 6,
   "metadata": {},
   "outputs": [
    {
     "name": "stdout",
     "output_type": "stream",
     "text": [
      "                                            nuclide  dm  intensity  dintensity\n",
      "0    <nuclide.Nuclide object at 0x000001EE1E66F520>  B-        1.0         0.0\n",
      "00   <nuclide.Nuclide object at 0x000001EE1E68D630>  B-        1.0         0.0\n",
      "000  <nuclide.Nuclide object at 0x000001EE1E68E410>  B-        1.0         0.0\n"
     ]
    }
   ],
   "source": [
    "nuclide.make_decay_chain()\n",
    "print(nuclide.decay_chain)"
   ]
  },
  {
   "cell_type": "markdown",
   "metadata": {},
   "source": [
    "You can make this decay chain readable like so:"
   ]
  },
  {
   "cell_type": "code",
   "execution_count": 7,
   "metadata": {},
   "outputs": [
    {
     "name": "stdout",
     "output_type": "stream",
     "text": [
      "Your diagram will be saved in c:\\Users\\s5027305\\ChipTrapNotes\\Neutrinos\\neupy\\decay_chains\n"
     ]
    },
    {
     "data": {
      "text/plain": [
       "[  nuclide  dm  intensity  dintensity path_index\n",
       " 0   135Xe  B-        1.0         0.0          0\n",
       " 1   135Cs  B-        1.0         0.0         00\n",
       " 2   135Ba  B-        1.0         0.0        000]"
      ]
     },
     "execution_count": 7,
     "metadata": {},
     "output_type": "execute_result"
    }
   ],
   "source": [
    "print('Your diagram will be saved in', cwd+'\\decay_chains')\n",
    "nuclide.display_decay_chain(cwd=cwd, debug=True)"
   ]
  },
  {
   "attachments": {
    "image.png": {
     "image/png": "[encoded data removed]"
    }
   },
   "cell_type": "markdown",
   "metadata": {},
   "source": [
    "For the iodine 135 chain, you should see a folder called `135I decay chain.md`. Within this file is a mermaid diagram which can be viewed on any of the supported markdown viewers (including github and Obsidian).\n",
    "\n",
    "```mermaid \n",
    "flowchart TD\n",
    "135I --\"B-\"--> 135Xe\n",
    "135Xe --\"B-\"--> 135Cs\n",
    "135Cs --\"B-\"--> 135Ba\n",
    "```\n",
    "![image.png](attachment:image.png)\n",
    "\n",
    "You will also notice the output of `nuclide.display_decay_chain` is a readable list of dataframes"
   ]
  },
  {
   "cell_type": "markdown",
   "metadata": {},
   "source": [
    "# Decay chain concentration profiles\n",
    "After creating your decay chain, you can calculate the concentrations over time for each of the linear branches. We do this by initialising the bateman object. After running `nuclide.initialise_bateman_object` we get the following result in `nuclide.decay_chain`"
   ]
  },
  {
   "cell_type": "code",
   "execution_count": 8,
   "metadata": {},
   "outputs": [
    {
     "name": "stdout",
     "output_type": "stream",
     "text": [
      "[                                          nuclide    dm  intensity   \n",
      "0  <nuclide.Nuclide object at 0x000001EE1E548700>  None        1.0  \\\n",
      "1  <nuclide.Nuclide object at 0x000001EE1E66F520>    B-        1.0   \n",
      "2  <nuclide.Nuclide object at 0x000001EE1E68D630>    B-        1.0   \n",
      "3  <nuclide.Nuclide object at 0x000001EE1E68E410>    B-        1.0   \n",
      "\n",
      "   dintensity path_index                  half_life          half_life_uncert   \n",
      "0         0.0       None            (23688.0, None)             (108.0, None)  \\\n",
      "1         0.0          0            (32904.0, None)              (72.0, None)   \n",
      "2         0.0         00  (419428800000000.0, None)  (59918400000000.0, None)   \n",
      "3         0.0        000               (stbl, None)                  (, None)   \n",
      "\n",
      "                                    bateman_object  \n",
      "0  <nuclide._Bateman object at 0x000001EE1E68EAD0>  \n",
      "1  <nuclide._Bateman object at 0x000001EE1E68EB00>  \n",
      "2  <nuclide._Bateman object at 0x000001EE1E68EEF0>  \n",
      "3  <nuclide._Bateman object at 0x000001EE1E68F340>  ]\n"
     ]
    }
   ],
   "source": [
    "nuclide.initialise_bateman_objects()\n",
    "print(nuclide.decay_chain)"
   ]
  },
  {
   "cell_type": "markdown",
   "metadata": {},
   "source": [
    "This is a list of the individual decay paths (only 1 here for I135), with pandas dataframes containing all of the information of a decay chain.\n",
    "\n",
    "The bateman object is a private class `_Bateman`, and contains methods for calculating the concentrations over time, as well as the concentrations' derivative and integral. There is also a method for displaying the latex formula of a given decay chain for readable confirmation of the equations used.\n",
    "\n",
    "For example"
   ]
  },
  {
   "cell_type": "code",
   "execution_count": 9,
   "metadata": {},
   "outputs": [
    {
     "name": "stdout",
     "output_type": "stream",
     "text": [
      "N_{1}(t) &= N_1(0)\\times\\times\\left( e^{-\\lambda_{1}t}\\right) \\\\\n",
      "N_{2}(t) &= N_1(0)\\times\\lambda_{1}\\times\\left(\\frac{ e^{-\\lambda_{1}t}}{(\\lambda_{2}-\\lambda_{1})}+\\frac{ e^{-\\lambda_{2}t}}{(\\lambda_{1}-\\lambda_{2})}\\right) \\\\\n",
      "None\n"
     ]
    }
   ],
   "source": [
    "from nuclide import _Bateman\n",
    "\n",
    "bateman_example = _Bateman(2, [], [], 1)\n",
    "pprint(bateman_example.bateman_equation_latex(2))"
   ]
  },
  {
   "cell_type": "markdown",
   "metadata": {},
   "source": [
    "These can be displayed in latex like so\n",
    "$$\n",
    "\\begin{aligned}\n",
    "N_{1}(t) &= N_1(0)\\times\\times\\left( e^{-\\lambda_{1}t}\\right) \\\\\n",
    "N_{2}(t) &= N_1(0)\\times\\lambda_{1}\\times\\left(\\frac{ e^{-\\lambda_{1}t}}{(\\lambda_{2}-\\lambda_{1})}+\\frac{ e^{-\\lambda_{2}t}}{(\\lambda_{1}-\\lambda_{2})}\\right) \\\\\n",
    "\\end{aligned}\n",
    "$$"
   ]
  },
  {
   "cell_type": "markdown",
   "metadata": {},
   "source": [
    "We can view the normalised concentations over time for a linear chain by calling the `nuclide.concentration_profile` method"
   ]
  },
  {
   "cell_type": "code",
   "execution_count": 10,
   "metadata": {},
   "outputs": [
    {
     "data": {
      "image/png": "[encoded data removed]",
      "text/plain": [
       "<Figure size 432x288 with 1 Axes>"
      ]
     },
     "metadata": {
      "needs_background": "light"
     },
     "output_type": "display_data"
    }
   ],
   "source": [
    "import numpy as np\n",
    "import matplotlib.pyplot as plt\n",
    "# defining a time space\n",
    "t = np.logspace(0, 16, 100)\n",
    "# calculating the concentration profiles for the first linear chain (I135 only has 1)\n",
    "concentration_profiles = nuclide.concentration_profile(nuclide.decay_chain[0])\n",
    "\n",
    "# Go through the linear chains\n",
    "for i, decay_element in enumerate(concentration_profiles):\n",
    "    # get the nuclide symbol from nubase\n",
    "    label = nuclide.decay_chain[0].loc[i, 'nuclide'].nuclide_nubase_info['A El'].values[0]\n",
    "    # plot\n",
    "    plt.plot(t, decay_element(t), label=label)\n",
    "plt.xscale('log')\n",
    "plt.xlabel('time (s)')\n",
    "plt.ylabel('Normalised concentration')\n",
    "plt.legend()\n",
    "plt.show()"
   ]
  },
  {
   "cell_type": "code",
   "execution_count": 11,
   "metadata": {},
   "outputs": [
    {
     "data": {
      "image/png": "[encoded data removed]",
      "text/plain": [
       "<Figure size 432x288 with 1 Axes>"
      ]
     },
     "metadata": {
      "needs_background": "light"
     },
     "output_type": "display_data"
    }
   ],
   "source": [
    "weighted_concentrations = nuclide.nuclide_concentration_profile()\n",
    "\n",
    "for linear_chain in weighted_concentrations:\n",
    "    profiles = []\n",
    "    labels = []\n",
    "    for i, decay_element in enumerate(linear_chain):\n",
    "        # get the nuclide symbol from nubase\n",
    "        label = nuclide.decay_chain[0].loc[i, 'nuclide'].nuclide_nubase_info['A El'].values[0]\n",
    "        # plot\n",
    "        profiles.append(decay_element(t))\n",
    "        labels.append(label)\n",
    "\n",
    "    plt.stackplot(t, np.array(profiles), labels=labels)\n",
    "plt.xscale('log')\n",
    "plt.xlabel('time (s)')\n",
    "plt.ylabel('Weighted concentration')\n",
    "plt.legend()\n",
    "plt.show()"
   ]
  },
  {
   "cell_type": "markdown",
   "metadata": {},
   "source": [
    "This is no different to the previous plot we made, but if we where to use another element instead of I135, that has a branching decay chain, the total height of the concentrations would be scaled by the branching ratio for that particular decay path. "
   ]
  },
  {
   "cell_type": "markdown",
   "metadata": {},
   "source": [
    "# Xe poisoning\n",
    "\n",
    "Xe135 has a large thermal neutron cross section, which means it will transmutate into Xe136 during reactor operations. This can be modelled using the `xe_poisoning` method. You can adjust the neutron flux, neutron percent and neutron cross section if needed. After running this method, a new column called `xe_poisoning_concentration` is created in the linear chains dataframe in `nuclide.decay_chain`. This can therefore be used to compare the concentrations over time with and without Xe poisoning included. The linear chain also gets a new entry at the end of it's dataframe, that being Xe136"
   ]
  },
  {
   "cell_type": "code",
   "execution_count": 20,
   "metadata": {},
   "outputs": [],
   "source": [
    "nuclide = Nuclide(91, 42, database_path=cwd+'\\\\databases\\\\')\n",
    "nuclide.make_decay_chain()\n",
    "nuclide.break_decay_chain_branches()\n",
    "nuclide.initialise_bateman_objects()\n",
    "nuclide.xe_poisoning(t)"
   ]
  },
  {
   "cell_type": "code",
   "execution_count": 21,
   "metadata": {},
   "outputs": [
    {
     "data": {
      "text/html": [
       "<div>\n",
       "<style scoped>\n",
       "    .dataframe tbody tr th:only-of-type {\n",
       "        vertical-align: middle;\n",
       "    }\n",
       "\n",
       "    .dataframe tbody tr th {\n",
       "        vertical-align: top;\n",
       "    }\n",
       "\n",
       "    .dataframe thead th {\n",
       "        text-align: right;\n",
       "    }\n",
       "</style>\n",
       "<table border=\"1\" class=\"dataframe\">\n",
       "  <thead>\n",
       "    <tr style=\"text-align: right;\">\n",
       "      <th></th>\n",
       "      <th>nuclide</th>\n",
       "      <th>dm</th>\n",
       "      <th>intensity</th>\n",
       "      <th>dintensity</th>\n",
       "      <th>path_index</th>\n",
       "      <th>half_life</th>\n",
       "      <th>half_life_uncert</th>\n",
       "      <th>bateman_object</th>\n",
       "      <th>AZI</th>\n",
       "      <th>xe_poisoning_concentration</th>\n",
       "    </tr>\n",
       "  </thead>\n",
       "  <tbody>\n",
       "    <tr>\n",
       "      <th>0</th>\n",
       "      <td>&lt;nuclide.Nuclide object at 0x000001EE22C8A260&gt;</td>\n",
       "      <td>None</td>\n",
       "      <td>1.0</td>\n",
       "      <td>0.0</td>\n",
       "      <td>None</td>\n",
       "      <td>(929.4, None)</td>\n",
       "      <td>(0.6, None)</td>\n",
       "      <td>&lt;nuclide._Bateman object at 0x000001EE26A1CC40&gt;</td>\n",
       "      <td>0910420</td>\n",
       "      <td>[0.9992544773294868, 0.9989185560482816, 0.998...</td>\n",
       "    </tr>\n",
       "    <tr>\n",
       "      <th>1</th>\n",
       "      <td>&lt;nuclide.Nuclide object at 0x000001EE2778A950&gt;</td>\n",
       "      <td>B+</td>\n",
       "      <td>1.0</td>\n",
       "      <td>0.0</td>\n",
       "      <td>0</td>\n",
       "      <td>(21444480000.0, None)</td>\n",
       "      <td>(4099680000.0, None)</td>\n",
       "      <td>&lt;nuclide._Bateman object at 0x000001EE26A1CCA0&gt;</td>\n",
       "      <td>0910410</td>\n",
       "      <td>[0.0007455226705009873, 0.0010814439516931267,...</td>\n",
       "    </tr>\n",
       "    <tr>\n",
       "      <th>2</th>\n",
       "      <td>&lt;nuclide.Nuclide object at 0x000001EE2778BB20&gt;</td>\n",
       "      <td>EC</td>\n",
       "      <td>1.0</td>\n",
       "      <td>0.0</td>\n",
       "      <td>00</td>\n",
       "      <td>(stbl, None)</td>\n",
       "      <td>(, None)</td>\n",
       "      <td>&lt;nuclide._Bateman object at 0x000001EE26A1DD20&gt;</td>\n",
       "      <td>0910400</td>\n",
       "      <td>[1.2053210427757724e-14, 2.542474074605145e-14...</td>\n",
       "    </tr>\n",
       "  </tbody>\n",
       "</table>\n",
       "</div>"
      ],
      "text/plain": [
       "                                          nuclide    dm  intensity   \n",
       "0  <nuclide.Nuclide object at 0x000001EE22C8A260>  None        1.0  \\\n",
       "1  <nuclide.Nuclide object at 0x000001EE2778A950>    B+        1.0   \n",
       "2  <nuclide.Nuclide object at 0x000001EE2778BB20>    EC        1.0   \n",
       "\n",
       "   dintensity path_index              half_life      half_life_uncert   \n",
       "0         0.0       None          (929.4, None)           (0.6, None)  \\\n",
       "1         0.0          0  (21444480000.0, None)  (4099680000.0, None)   \n",
       "2         0.0         00           (stbl, None)              (, None)   \n",
       "\n",
       "                                    bateman_object      AZI   \n",
       "0  <nuclide._Bateman object at 0x000001EE26A1CC40>  0910420  \\\n",
       "1  <nuclide._Bateman object at 0x000001EE26A1CCA0>  0910410   \n",
       "2  <nuclide._Bateman object at 0x000001EE26A1DD20>  0910400   \n",
       "\n",
       "                          xe_poisoning_concentration  \n",
       "0  [0.9992544773294868, 0.9989185560482816, 0.998...  \n",
       "1  [0.0007455226705009873, 0.0010814439516931267,...  \n",
       "2  [1.2053210427757724e-14, 2.542474074605145e-14...  "
      ]
     },
     "execution_count": 21,
     "metadata": {},
     "output_type": "execute_result"
    }
   ],
   "source": [
    "nuclide.decay_chain[1]"
   ]
  },
  {
   "cell_type": "code",
   "execution_count": 14,
   "metadata": {},
   "outputs": [
    {
     "data": {
      "text/plain": [
       "<matplotlib.legend.Legend at 0x1ee22ba7850>"
      ]
     },
     "execution_count": 14,
     "metadata": {},
     "output_type": "execute_result"
    },
    {
     "data": {
      "image/png": "[encoded data removed]",
      "text/plain": [
       "<Figure size 432x288 with 1 Axes>"
      ]
     },
     "metadata": {
      "needs_background": "light"
     },
     "output_type": "display_data"
    }
   ],
   "source": [
    "for i, row in nuclide.decay_chain[0].iterrows():\n",
    "    concentration = row.xe_poisoning_concentration\n",
    "    label = row.nuclide.nuclide_nubase_info.loc[row.AZI, 'A El']\n",
    "    plt.plot(t, concentration, label=label)\n",
    "\n",
    "plt.xscale('log')\n",
    "plt.legend()"
   ]
  },
  {
   "cell_type": "markdown",
   "metadata": {},
   "source": [
    "It may look as though Xe136 didn't make any contributions, but if we have a look at the max value of Xe136, and Cs135, we will notice that Xe136 did indeed increase in concentration, while Cs135 never reaches 1 (as it would without this)"
   ]
  },
  {
   "cell_type": "code",
   "execution_count": 15,
   "metadata": {},
   "outputs": [
    {
     "name": "stdout",
     "output_type": "stream",
     "text": [
      "Max Xe136 concentration 0.00021299571114270853\n",
      "Max Cs135 concentration 0.9997577374928316\n"
     ]
    }
   ],
   "source": [
    "print(\"Max Xe136 concentration\", max(nuclide.decay_chain[0].loc[4, 'xe_poisoning_concentration']))\n",
    "print(\"Max Cs135 concentration\", max(nuclide.decay_chain[0].loc[2, 'xe_poisoning_concentration']))"
   ]
  }
 ],
 "metadata": {
  "kernelspec": {
   "display_name": "Python 3",
   "language": "python",
   "name": "python3"
  },
  "language_info": {
   "codemirror_mode": {
    "name": "ipython",
    "version": 3
   },
   "file_extension": ".py",
   "mimetype": "text/x-python",
   "name": "python",
   "nbconvert_exporter": "python",
   "pygments_lexer": "ipython3",
   "version": "3.10.4"
  }
 },
 "nbformat": 4,
 "nbformat_minor": 2
}
