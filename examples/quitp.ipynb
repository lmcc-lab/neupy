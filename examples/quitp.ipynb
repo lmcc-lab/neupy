{
 "cells": [
  {
   "cell_type": "code",
   "execution_count": 1,
   "metadata": {},
   "outputs": [],
   "source": [
    "from qutip import *"
   ]
  },
  {
   "cell_type": "code",
   "execution_count": 2,
   "metadata": {},
   "outputs": [],
   "source": [
    "ket = (basis(5, 0) + basis(5, 1)).unit()"
   ]
  },
  {
   "cell_type": "code",
   "execution_count": 3,
   "metadata": {},
   "outputs": [],
   "source": [
    "n = num(5)"
   ]
  },
  {
   "cell_type": "code",
   "execution_count": 6,
   "metadata": {},
   "outputs": [
    {
     "name": "stdout",
     "output_type": "stream",
     "text": [
      "Quantum object: dims = [[5], [1]], shape = (5, 1), type = ket\n",
      "Qobj data =\n",
      "[[0.]\n",
      " [1.]\n",
      " [0.]\n",
      " [0.]\n",
      " [0.]]\n"
     ]
    }
   ],
   "source": [
    "print((n*ket))"
   ]
  },
  {
   "cell_type": "markdown",
   "metadata": {},
   "source": [
    "$$n=\\begin{pmatrix}\n",
    "0 & 0 & 0 & 0\\\\\n",
    "0 & 1 & 0 & 0\\\\\n",
    "0 & 0 & 2 & 0\\\\\n",
    "0 & 0 & 0 & 3\n",
    "\n",
    "\\end{pmatrix}$$\n",
    "\n",
    "$$\n",
    "\\ket{\\psi} = \n",
    "\\begin{pmatrix}\n",
    "1\\\\\n",
    "1\\\\\n",
    "0\\\\\n",
    "0\n",
    "\\end{pmatrix}\n",
    "$$\n",
    "\n",
    "$$\n",
    "n\\ket{\\psi} = \\begin{pmatrix}\n",
    "0 & 0 & 0 & 0\\\\\n",
    "0 & 1 & 0 & 0\\\\\n",
    "0 & 0 & 2 & 0\\\\\n",
    "0 & 0 & 0 & 3\n",
    "\n",
    "\\end{pmatrix}\n",
    "\\begin{pmatrix}\n",
    "1\\\\\n",
    "1\\\\\n",
    "0\\\\\n",
    "0\n",
    "\\end{pmatrix}\n",
    "$$"
   ]
  },
  {
   "cell_type": "code",
   "execution_count": 9,
   "metadata": {},
   "outputs": [
    {
     "name": "stdout",
     "output_type": "stream",
     "text": [
      "Quantum object: dims = [[5], [1]], shape = (5, 1), type = ket\n",
      "Qobj data =\n",
      "[[1.]\n",
      " [0.]\n",
      " [0.]\n",
      " [0.]\n",
      " [0.]]\n",
      "Quantum object: dims = [[5], [5]], shape = (5, 5), type = oper, isherm = False\n",
      "Qobj data =\n",
      "[[ 0.60655682+0.j          0.        +0.60628133j -0.4303874 +0.j\n",
      "   0.        -0.24104351j  0.14552147+0.j        ]\n",
      " [ 0.        +0.60628133j -0.00210288+0.j          0.        +0.43991167j\n",
      "  -0.45440991+0.j          0.        -0.48208701j]\n",
      " [-0.4303874 +0.j          0.        +0.43991167j -0.25430923+0.j\n",
      "   0.        +0.02744907j -0.74553187+0.j        ]\n",
      " [ 0.        -0.24104351j -0.45440991+0.j          0.        +0.02744907j\n",
      "  -0.74415115+0.j          0.        +0.42531786j]\n",
      " [ 0.14552147+0.j          0.        -0.48208701j -0.74553187+0.j\n",
      "   0.        +0.42531786j -0.09850161+0.j        ]]\n",
      "Quantum object: dims = [[5], [1]], shape = (5, 1), type = ket\n",
      "Qobj data =\n",
      "[[ 0.60655682+0.j        ]\n",
      " [ 0.        +0.60628133j]\n",
      " [-0.4303874 +0.j        ]\n",
      " [ 0.        -0.24104351j]\n",
      " [ 0.14552147+0.j        ]]\n",
      "Quantum object: dims = [[5], [1]], shape = (5, 1), type = ket\n",
      "Qobj data =\n",
      "[[ 0.96987284+0.j        ]\n",
      " [ 0.        +0.j        ]\n",
      " [-0.16416578-0.16416578j]\n",
      " [ 0.        +0.j        ]\n",
      " [ 0.        +0.07379618j]]\n"
     ]
    },
    {
     "name": "stderr",
     "output_type": "stream",
     "text": [
      "C:\\Users\\s5027305\\AppData\\Local\\Temp\\ipykernel_8392\\381209609.py:7: DeprecationWarning: `np.complex` is a deprecated alias for the builtin `complex`. To silence this warning, use `complex` by itself. Doing this will not modify any behavior and is safe. If you specifically wanted the numpy scalar type, use `np.complex128` here.\n",
      "Deprecated in NumPy 1.20; for more details and guidance: https://numpy.org/devdocs/release/1.20.0-notes.html#deprecations\n",
      "  s = squeeze(5, np.complex(0.25, 0.25))\n"
     ]
    }
   ],
   "source": [
    "import numpy as np\n",
    "\n",
    "vac = basis(5, 0)\n",
    "\n",
    "d = displace(5, 1j)\n",
    "\n",
    "s = squeeze(5, np.complex(0.25, 0.25))\n",
    "\n",
    "print(vac)\n",
    "print(d)\n",
    "\n",
    "print(d * vac)\n",
    "print(s * vac)"
   ]
  },
  {
   "cell_type": "code",
   "execution_count": 23,
   "metadata": {},
   "outputs": [
    {
     "name": "stdout",
     "output_type": "stream",
     "text": [
      "Quantum object: dims = [[2], [2]], shape = (2, 2), type = oper, isherm = False\n",
      "Qobj data =\n",
      "[[0. 1.]\n",
      " [0. 0.]]\n",
      "Quantum object: dims = [[2], [1]], shape = (2, 1), type = ket\n",
      "Qobj data =\n",
      "[[0.]\n",
      " [1.]]\n",
      "Quantum object: dims = [[2], [1]], shape = (2, 1), type = ket\n",
      "Qobj data =\n",
      "[[1.]\n",
      " [0.]]\n",
      "Quantum object: dims = [[2], [2]], shape = (2, 2), type = oper, isherm = False\n",
      "Qobj data =\n",
      "[[0. 0.]\n",
      " [1. 0.]]\n",
      "Quantum object: dims = [[2], [1]], shape = (2, 1), type = ket\n",
      "Qobj data =\n",
      "[[0.]\n",
      " [1.]]\n"
     ]
    }
   ],
   "source": [
    "print(sigmap())\n",
    "\n",
    "spin = basis(2, 1)\n",
    "print(spin)\n",
    "print(sigmap() * spin)\n",
    "\n",
    "spin2 = basis(2, 0)\n",
    "\n",
    "print(sigmam())\n",
    "print(sigmam() * spin2)"
   ]
  },
  {
   "cell_type": "code",
   "execution_count": 26,
   "metadata": {},
   "outputs": [],
   "source": [
    "spin1 = basis(2, 0)\n",
    "\n",
    "spin2 = basis(2, 1)\n",
    "\n",
    "two_spins = tensor(spin1, spin2)\n",
    "\n",
    "sz1 = tensor(sigmaz(), qeye(2))\n",
    "\n",
    "sz2 = tensor(qeye(2), sigmaz())\n",
    "\n",
    "np.testing.assert_almost_equal(expect(sz1, two_spins), 1)\n",
    "\n",
    "np.testing.assert_almost_equal(expect(sz2, two_spins), -1)"
   ]
  },
  {
   "cell_type": "markdown",
   "metadata": {},
   "source": [
    "$$\n",
    "\\ket{\\Psi} = \\ket{\\psi_1} \\otimes \\ket{\\psi_2}\n",
    "$$"
   ]
  }
 ],
 "metadata": {
  "kernelspec": {
   "display_name": "Python 3",
   "language": "python",
   "name": "python3"
  },
  "language_info": {
   "codemirror_mode": {
    "name": "ipython",
    "version": 3
   },
   "file_extension": ".py",
   "mimetype": "text/x-python",
   "name": "python",
   "nbconvert_exporter": "python",
   "pygments_lexer": "ipython3",
   "version": "3.10.4"
  }
 },
 "nbformat": 4,
 "nbformat_minor": 2
}
